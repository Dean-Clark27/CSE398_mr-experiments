{
 "cells": [
  {
   "cell_type": "markdown",
   "metadata": {
    "id": "FZO5RfyY3E_T"
   },
   "source": [
    "The block below imports a necessary module and checks if you are in the right directory. If you do not see a list of python files when you run the block, please make sure you have uploaded the zip file and unzipped it."
   ]
  },
  {
   "cell_type": "code",
   "execution_count": null,
   "metadata": {
    "id": "fQExJTtSxxeN"
   },
   "outputs": [],
   "source": [
    "import matplotlib.pyplot as plt\n",
    "\n",
    "%pwd\n",
    "%ls\n",
    "\n",
    "\n"
   ]
  },
  {
   "cell_type": "markdown",
   "metadata": {
    "id": "TqHkYculOA4N"
   },
   "source": [
    "If you want to create a random knowledge base, run the following code.\n",
    "\n",
    "Creates the files:\n",
    "\n",
    "* randomKB.txt - A random KB generated using 10 predicates and 100 constants.\n",
    "* vocab.pkl - Indexes the full set of predicates, constants and variables used by the knowledge base."
   ]
  },
  {
   "cell_type": "code",
   "execution_count": null,
   "metadata": {
    "id": "PdlVdxrIM-p6"
   },
   "outputs": [],
   "source": [
    "!python kbencoder.py --generate_kb --new_vocab --save_vocab --num_rules 250\n",
    "!head randomKB.txt"
   ]
  },
  {
   "cell_type": "markdown",
   "metadata": {
    "id": "OUdP5U-OOIZB"
   },
   "source": [
    "The following code prepares an existing knowledge base (KB) for use. To use a KB of your choosing, replace gameofthrones.txt with the file name of any KB you want to use.\n",
    "\n",
    "Creates the file:\n",
    "\n",
    "*   vocab.pkl - Indexes the full set of predicates, constants and variables used by the knowledge base."
   ]
  },
  {
   "cell_type": "code",
   "execution_count": null,
   "metadata": {
    "id": "nuP2U_aUQVjv"
   },
   "outputs": [],
   "source": [
    "!python kbencoder.py --kb_path gameofthrones.txt --vocab_from_kb --save_vocab\n"
   ]
  },
  {
   "cell_type": "markdown",
   "metadata": {
    "id": "A2GF--2tP4oE"
   },
   "source": [
    "Train a neural net to convert first-order logic atoms into meaningful numeric vectors. We call these vectors \"embeddings,\" and the learned model the embedding model. The code creates random atoms and then uses a mechanism known as triplet loss to place unifying atoms closer together.\n",
    "\n",
    "Creates the files:\n",
    "\n",
    "*   rKB_model.pth - Saves the learned weights for the embedding model\n",
    "*   training_loss-45-106-2-50.png - A plot of the training loss after each epoch. This file's name depends on the vocabulary of your KB: the four numbers are number of predicates, number of constants, max arity of the predicates, and the embedding size used. If you changed the KB, you'll need to look up the name in your drive and update the code block that displays this file.\n"
   ]
  },
  {
   "cell_type": "code",
   "execution_count": null,
   "metadata": {
    "id": "ddp0PBJFQjEE"
   },
   "outputs": [],
   "source": [
    "!python kbencoder.py --kb_path gameofthrones.txt --train_unification_model\n",
    "\n"
   ]
  },
  {
   "cell_type": "code",
   "execution_count": null,
   "metadata": {
    "id": "TP1QbMf5SnUV"
   },
   "outputs": [],
   "source": [
    "img = plt.imread('training_loss-45-106-2-50.png')\n",
    "plt. imshow(img)"
   ]
  },
  {
   "cell_type": "markdown",
   "metadata": {
    "id": "Q8ZHgSBoTgZ2"
   },
   "source": [
    "Generate a set of train and test queries from your knowledge base. This will also generate the deductive closure (all facts that can be inferred) of your KB using forward-chaining.\n",
    "\n",
    "Produces the files:\n",
    "\n",
    "*  all_facts.txt - A list of all facts that can be inferred from the KB. This is used to generate queries that are guaranteed to have an answer.\n",
    "*  train_queries.txt - A set of training queries where each will have at least one answer.\n",
    "*  test_queries.txt - A set of test queries where each will have at least one answer.\n"
   ]
  },
  {
   "cell_type": "code",
   "execution_count": null,
   "metadata": {
    "id": "VuBS5nSsTzlF"
   },
   "outputs": [],
   "source": [
    "!python kbencoder.py --kb_path gameofthrones.txt -g"
   ]
  },
  {
   "cell_type": "markdown",
   "metadata": {
    "id": "5pYGVZJKUQI6"
   },
   "source": [
    "Create a training set for the scoring model. The examples will consist of goal, rule, score pairs, where a score of 1 means the rule can solve the goal, and 0 means it cannot. It runs the full set of training queries with a randomized backward-chaining process. This step can sometimes take a long time and is not able to take advantage of a GPU (with the gameofthrones KB it took ~45 minutes).\n",
    "\n",
    "Creates a file:\n",
    "*  mr_train_examples.csv - Contains a line for each goal/rule/score example."
   ]
  },
  {
   "cell_type": "code",
   "execution_count": null,
   "metadata": {
    "id": "skkId5P3UqCM"
   },
   "outputs": [],
   "source": [
    "!python kbencoder.py --kb_path gameofthrones.txt -p"
   ]
  },
  {
   "cell_type": "markdown",
   "metadata": {
    "id": "aFqZci3YiIbD"
   },
   "source": [
    "Train the scoring model. This step will usually take several minutes, especially if you are not using a GPU (for the gameofthrones KB, it takes about 30 minutes on CPU).\n",
    "\n",
    "Creates a file:\n",
    "* uni_mr_model.pt - Contains the weights for the learned scoring model"
   ]
  },
  {
   "cell_type": "code",
   "execution_count": null,
   "metadata": {
    "id": "lz7sJYKkiZaA"
   },
   "outputs": [],
   "source": [
    "!python nnreasoner.py --embed_type unification"
   ]
  },
  {
   "cell_type": "code",
   "execution_count": null,
   "metadata": {
    "id": "XRvqAgZYtM5F"
   },
   "outputs": [],
   "source": [
    "img = plt.imread('guided_loss-unification45-106-2-50.png')\n",
    "plt. imshow(img)"
   ]
  },
  {
   "cell_type": "markdown",
   "metadata": {
    "id": "l8ycLVETiLB-"
   },
   "source": [
    "Evaluate the scoring model by running evaluate.py. We compare the standard backward-chaining algorithm (-s) with the one that uses our learned scoring model (-u).\n",
    "\n",
    "The output lists each query, and then provides a line that gives information about query execution. These are: number of nodes explored in the tree, depth of the solution, execution time in seconds, and the speed of exploring the tree (nodes per second).\n",
    "\n",
    "The names of the files produced depend on the KB used and the options selected. The code below produces the files:\n",
    "\n",
    "* std-45-106-2-50.csv - A CSV file with query results for the standard backward-chaining algorithm\n",
    "* ming-45-106-2-50.csv - A CSV file with query results for the learned reasoner. ming stands for \"min scoring goal\" and is the default strategy for deciding how to make use of the scores\n",
    "\n",
    "If you use a different knowledge base, you will likely get different file names that depend on the features of that KB's vocabulary."
   ]
  },
  {
   "cell_type": "code",
   "execution_count": null,
   "metadata": {
    "id": "DwShxQ8Bk1fq"
   },
   "outputs": [],
   "source": [
    "!python evaluate.py --kb gameofthrones.txt -s\n",
    "!python evaluate.py --kb gameofthrones.txt -u"
   ]
  },
  {
   "cell_type": "markdown",
   "metadata": {
    "id": "jkhtKcOZLecH"
   },
   "source": [
    "The results suggest only minor improvements for the gameofthrones KB: on average 3.75 vs. 4.39 node per query when I ran it. You may get different results due to the randomization of training and random selection of test queries. Larger, more complex KBs can see much larger improvements, sometimes an order of magnitude or more.\n",
    "\n",
    "The code below shows the first 10 lines of each query result file. A given line has:\n",
    "* query sequence number\n",
    "* configuration name\n",
    "* number of nodes explored\n",
    "* depth of solution (0 if no solution found)\n",
    "* did the system find a solution (true/false)\n",
    "* time in seconds\n",
    "\n",
    "You can import these files into a spreadsheet in order to create plots or summary statistics."
   ]
  },
  {
   "cell_type": "code",
   "execution_count": null,
   "metadata": {
    "id": "nm5NLG5JLmWz"
   },
   "outputs": [],
   "source": [
    "!head std-45-106-2-50.csv\n",
    "!head ming-45-106-2-50.csv"
   ]
  },
  {
   "cell_type": "code",
   "execution_count": null,
   "metadata": {},
   "outputs": [],
   "source": []
  }
 ],
 "metadata": {
  "colab": {
   "provenance": []
  },
  "kernelspec": {
   "display_name": "krclassp311",
   "language": "python",
   "name": "krclassp311"
  },
  "language_info": {
   "codemirror_mode": {
    "name": "ipython",
    "version": 3
   },
   "file_extension": ".py",
   "mimetype": "text/x-python",
   "name": "python",
   "nbconvert_exporter": "python",
   "pygments_lexer": "ipython3",
   "version": "3.11.13"
  }
 },
 "nbformat": 4,
 "nbformat_minor": 4
}
